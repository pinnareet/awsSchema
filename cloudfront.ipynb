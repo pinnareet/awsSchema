{
 "cells": [
  {
   "cell_type": "code",
   "execution_count": null,
   "id": "b295dd81",
   "metadata": {},
   "outputs": [],
   "source": [
    "from nicHelper.dictUtil import printYaml"
   ]
  },
  {
   "cell_type": "code",
   "execution_count": null,
   "id": "3a9de623",
   "metadata": {},
   "outputs": [],
   "source": []
  }
 ],
 "metadata": {
  "kernelspec": {
   "display_name": "python38",
   "language": "python",
   "name": "python38"
  }
 },
 "nbformat": 4,
 "nbformat_minor": 5
}
