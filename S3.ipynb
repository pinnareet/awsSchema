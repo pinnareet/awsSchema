{
 "cells": [
  {
   "cell_type": "code",
   "execution_count": null,
   "metadata": {},
   "outputs": [],
   "source": [
    "#default_exp S3"
   ]
  },
  {
   "cell_type": "markdown",
   "metadata": {},
   "source": [
    "# S3\n",
    "parse s3 event"
   ]
  },
  {
   "cell_type": "code",
   "execution_count": null,
   "metadata": {},
   "outputs": [],
   "source": [
    "#export\n",
    "from dataclasses import field\n",
    "from dataclasses import dataclass, field\n",
    "from dataclasses_json import dataclass_json, Undefined"
   ]
  },
  {
   "cell_type": "code",
   "execution_count": null,
   "metadata": {},
   "outputs": [],
   "source": [
    "#export\n",
    "@dataclass_json(undefined=Undefined.EXCLUDE)\n",
    "@dataclass\n",
    "class S3Event:\n",
    "  '''\n",
    "    parse event from apigateway\n",
    "  '''\n",
    "  body: str\n",
    "  headers: dict = field(default_factory = dict)\n",
    "  statusCode: int = 200\n",
    "  def getBody(self):\n",
    "    return json.loads(self.body)\n",
    "  def getProducts(self):\n",
    "    return Products.from_json(self.body)\n",
    "  def getKey(self, key='product'):\n",
    "    return body.get(key)\n",
    "  key = lambda self: json.loads(self.body)['key']\n",
    "  firstKey = lambda self: next(iter(json.loads(self.body).items()))\n",
    "  @classmethod\n",
    "  def getKeyObject(cls, event):\n",
    "    s3Event = event['Records'][0]\n",
    "    bucket = s3Event['s3']['bucket']['name']\n",
    "    key = s3Event['s3']['object']['key']\n",
    "    return bucket, key\n"
   ]
  },
  {
   "cell_type": "code",
   "execution_count": null,
   "metadata": {},
   "outputs": [
    {
     "data": {
      "text/plain": [
       "('bucketname', 'theKey')"
      ]
     },
     "execution_count": null,
     "metadata": {},
     "output_type": "execute_result"
    }
   ],
   "source": [
    "# test get key object\n",
    "eventSample = { \"Records\": [ { \"eventVersion\": \"2.1\", \"eventSource\": \"aws:s3\", \"awsRegion\": \"us-east-2\", \"eventTime\": \"2019-09-03T19:37:27.192Z\", \"eventName\": \"ObjectCreated:Put\", \"userIdentity\": { \"principalId\": \"AWS:AIDAINPONIXQXHT3IKHL2\" }, \"requestParameters\": { \"sourceIPAddress\": \"205.255.255.255\" }, \"responseElements\": { \"x-amz-request-id\": \"D82B88E5F771F645\", \"x-amz-id-2\": \"vlR7PnpV2Ce81l0PRw6jlUpck7Jo5ZsQjryTjKlc5aLWGVHPZLj5NeC6qMa0emYBDXOo6QBU0Wo=\" }, \"s3\": { \"s3SchemaVersion\": \"1.0\", \"configurationId\": \"828aa6fc-f7b5-4305-8584-487c791949c1\", \"bucket\": { \"name\": \"bucketname\", \"ownerIdentity\": { \"principalId\": \"A3I5XTEXAMAI3E\" }, \"arn\": \"arn:aws:s3:::lambda-artifacts-eafc19498e3f2df\" }, \"object\": { \"key\": \"theKey\", \"size\": 1305107, \"eTag\": \"b21b84d653bb07b05b1e6b33684dc11b\", \"sequencer\": \"0C0F6F405D6ED209E1\" } } } ] }\n",
    "S3Event.getKeyObject(eventSample)"
   ]
  },
  {
   "cell_type": "code",
   "execution_count": null,
   "metadata": {},
   "outputs": [],
   "source": []
  }
 ],
 "metadata": {
  "kernelspec": {
   "display_name": "python38",
   "language": "python",
   "name": "python38"
  }
 },
 "nbformat": 4,
 "nbformat_minor": 4
}
