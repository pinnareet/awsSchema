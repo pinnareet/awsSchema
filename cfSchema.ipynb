{
 "cells": [
  {
   "cell_type": "code",
   "execution_count": null,
   "id": "320627b2",
   "metadata": {},
   "outputs": [],
   "source": [
    "#default_exp cloudfrontSchema"
   ]
  },
  {
   "cell_type": "markdown",
   "id": "7678501c",
   "metadata": {},
   "source": [
    "# Cloudfront Schema"
   ]
  },
  {
   "cell_type": "code",
   "execution_count": null,
   "id": "d570114b",
   "metadata": {},
   "outputs": [],
   "source": [
    "import yaml"
   ]
  },
  {
   "cell_type": "code",
   "execution_count": null,
   "id": "9e66a36e",
   "metadata": {},
   "outputs": [],
   "source": [
    "## OriginRequest"
   ]
  },
  {
   "cell_type": "code",
   "execution_count": null,
   "id": "31eb336e",
   "metadata": {},
   "outputs": [
    {
     "name": "stdout",
     "output_type": "stream",
     "text": [
      "Records:\n",
      "- cf:\n",
      "    config:\n",
      "      distributionDomainName: d111111abcdef8.cloudfront.net\n",
      "      distributionId: EDFDVBD6EXAMPLE\n",
      "      eventType: origin-request\n",
      "      requestId: 4TyzHTaYWb1GX1qTfsHhEqV6HUDd_BzoBZnwfnvQc_1oF26ClkoUSEQ==\n",
      "    request:\n",
      "      clientIp: 203.0.113.178\n",
      "      headers:\n",
      "        cache-control:\n",
      "        - key: Cache-Control\n",
      "          value: no-cache, cf-no-cache\n",
      "        host:\n",
      "        - key: Host\n",
      "          value: example.org\n",
      "        user-agent:\n",
      "        - key: User-Agent\n",
      "          value: Amazon CloudFront\n",
      "        via:\n",
      "        - key: Via\n",
      "          value: 2.0 2afae0d44e2540f472c0635ab62c232b.cloudfront.net (CloudFront)\n",
      "        x-forwarded-for:\n",
      "        - key: X-Forwarded-For\n",
      "          value: 203.0.113.178\n",
      "      method: GET\n",
      "      origin:\n",
      "        custom:\n",
      "          customHeaders: {}\n",
      "          domainName: example.org\n",
      "          keepaliveTimeout: 5\n",
      "          path: ''\n",
      "          port: 443\n",
      "          protocol: https\n",
      "          readTimeout: 30\n",
      "          sslProtocols:\n",
      "          - TLSv1\n",
      "          - TLSv1.1\n",
      "          - TLSv1.2\n",
      "      querystring: ''\n",
      "      uri: /\n",
      "\n"
     ]
    }
   ],
   "source": [
    "print(open('cfSchema/originRequest.yaml').read())"
   ]
  },
  {
   "cell_type": "markdown",
   "id": "2161ca08",
   "metadata": {},
   "source": [
    "## Origin Response"
   ]
  },
  {
   "cell_type": "code",
   "execution_count": null,
   "id": "8f0c5772",
   "metadata": {},
   "outputs": [
    {
     "name": "stdout",
     "output_type": "stream",
     "text": [
      "Records:\n",
      "- cf:\n",
      "    config:\n",
      "      distributionDomainName: d111111abcdef8.cloudfront.net\n",
      "      distributionId: EDFDVBD6EXAMPLE\n",
      "      eventType: origin-response\n",
      "      requestId: 4TyzHTaYWb1GX1qTfsHhEqV6HUDd_BzoBZnwfnvQc_1oF26ClkoUSEQ==\n",
      "    request:\n",
      "      clientIp: 203.0.113.178\n",
      "      headers:\n",
      "        cache-control:\n",
      "        - key: Cache-Control\n",
      "          value: no-cache, cf-no-cache\n",
      "        host:\n",
      "        - key: Host\n",
      "          value: example.org\n",
      "        user-agent:\n",
      "        - key: User-Agent\n",
      "          value: Amazon CloudFront\n",
      "        via:\n",
      "        - key: Via\n",
      "          value: 2.0 8f22423015641505b8c857a37450d6c0.cloudfront.net (CloudFront)\n",
      "        x-forwarded-for:\n",
      "        - key: X-Forwarded-For\n",
      "          value: 203.0.113.178\n",
      "      method: GET\n",
      "      origin:\n",
      "        custom:\n",
      "          customHeaders: {}\n",
      "          domainName: example.org\n",
      "          keepaliveTimeout: 5\n",
      "          path: ''\n",
      "          port: 443\n",
      "          protocol: https\n",
      "          readTimeout: 30\n",
      "          sslProtocols:\n",
      "          - TLSv1\n",
      "          - TLSv1.1\n",
      "          - TLSv1.2\n",
      "      querystring: ''\n",
      "      uri: /\n",
      "    response:\n",
      "      headers:\n",
      "        access-control-allow-credentials:\n",
      "        - key: Access-Control-Allow-Credentials\n",
      "          value: 'true'\n",
      "        access-control-allow-origin:\n",
      "        - key: Access-Control-Allow-Origin\n",
      "          value: '*'\n",
      "        content-length:\n",
      "        - key: Content-Length\n",
      "          value: '9593'\n",
      "        content-type:\n",
      "        - key: Content-Type\n",
      "          value: text/html; charset=utf-8\n",
      "        date:\n",
      "        - key: Date\n",
      "          value: Mon, 13 Jan 2020 20:12:38 GMT\n",
      "        referrer-policy:\n",
      "        - key: Referrer-Policy\n",
      "          value: no-referrer-when-downgrade\n",
      "        server:\n",
      "        - key: Server\n",
      "          value: ExampleCustomOriginServer\n",
      "        x-content-type-options:\n",
      "        - key: X-Content-Type-Options\n",
      "          value: nosniff\n",
      "        x-frame-options:\n",
      "        - key: X-Frame-Options\n",
      "          value: DENY\n",
      "        x-xss-protection:\n",
      "        - key: X-XSS-Protection\n",
      "          value: 1; mode=block\n",
      "      status: '200'\n",
      "      statusDescription: OK\n",
      "\n"
     ]
    }
   ],
   "source": [
    "print(open('cfSchema/originResponse.yaml').read())"
   ]
  },
  {
   "cell_type": "markdown",
   "id": "40a230e7",
   "metadata": {},
   "source": [
    "## Viewer Request"
   ]
  },
  {
   "cell_type": "code",
   "execution_count": null,
   "id": "1b879434",
   "metadata": {},
   "outputs": [
    {
     "name": "stdout",
     "output_type": "stream",
     "text": [
      "Records:\n",
      "- cf:\n",
      "    config:\n",
      "      distributionDomainName: d111111abcdef8.cloudfront.net\n",
      "      distributionId: EDFDVBD6EXAMPLE\n",
      "      eventType: viewer-request\n",
      "      requestId: 4TyzHTaYWb1GX1qTfsHhEqV6HUDd_BzoBZnwfnvQc_1oF26ClkoUSEQ==\n",
      "    request:\n",
      "      clientIp: 203.0.113.178\n",
      "      headers:\n",
      "        accept:\n",
      "        - key: accept\n",
      "          value: '*/*'\n",
      "        host:\n",
      "        - key: Host\n",
      "          value: d111111abcdef8.cloudfront.net\n",
      "        user-agent:\n",
      "        - key: User-Agent\n",
      "          value: curl/7.66.0\n",
      "      method: GET\n",
      "      querystring: ''\n",
      "      uri: /\n",
      "\n"
     ]
    }
   ],
   "source": [
    "print(open('cfSchema/viewerRequest.yaml').read())"
   ]
  },
  {
   "cell_type": "markdown",
   "id": "42f8f8bf",
   "metadata": {},
   "source": [
    "## Viewer Response"
   ]
  },
  {
   "cell_type": "code",
   "execution_count": null,
   "id": "bd1f8d9e",
   "metadata": {},
   "outputs": [
    {
     "name": "stdout",
     "output_type": "stream",
     "text": [
      "Records:\n",
      "- cf:\n",
      "    config:\n",
      "      distributionDomainName: d111111abcdef8.cloudfront.net\n",
      "      distributionId: EDFDVBD6EXAMPLE\n",
      "      eventType: viewer-response\n",
      "      requestId: 4TyzHTaYWb1GX1qTfsHhEqV6HUDd_BzoBZnwfnvQc_1oF26ClkoUSEQ==\n",
      "    request:\n",
      "      clientIp: 203.0.113.178\n",
      "      headers:\n",
      "        accept:\n",
      "        - key: accept\n",
      "          value: '*/*'\n",
      "        host:\n",
      "        - key: Host\n",
      "          value: d111111abcdef8.cloudfront.net\n",
      "        user-agent:\n",
      "        - key: User-Agent\n",
      "          value: curl/7.66.0\n",
      "      method: GET\n",
      "      querystring: ''\n",
      "      uri: /\n",
      "    response:\n",
      "      headers:\n",
      "        access-control-allow-credentials:\n",
      "        - key: Access-Control-Allow-Credentials\n",
      "          value: 'true'\n",
      "        access-control-allow-origin:\n",
      "        - key: Access-Control-Allow-Origin\n",
      "          value: '*'\n",
      "        age:\n",
      "        - key: Age\n",
      "          value: '2402'\n",
      "        content-length:\n",
      "        - key: Content-Length\n",
      "          value: '9593'\n",
      "        content-type:\n",
      "        - key: Content-Type\n",
      "          value: text/html; charset=utf-8\n",
      "        date:\n",
      "        - key: Date\n",
      "          value: Mon, 13 Jan 2020 20:14:56 GMT\n",
      "        referrer-policy:\n",
      "        - key: Referrer-Policy\n",
      "          value: no-referrer-when-downgrade\n",
      "        server:\n",
      "        - key: Server\n",
      "          value: ExampleCustomOriginServer\n",
      "        x-content-type-options:\n",
      "        - key: X-Content-Type-Options\n",
      "          value: nosniff\n",
      "        x-frame-options:\n",
      "        - key: X-Frame-Options\n",
      "          value: DENY\n",
      "        x-xss-protection:\n",
      "        - key: X-XSS-Protection\n",
      "          value: 1; mode=block\n",
      "      status: '200'\n",
      "      statusDescription: OK\n",
      "\n"
     ]
    }
   ],
   "source": [
    "print(open('cfSchema/viewerResponse.yaml').read())"
   ]
  },
  {
   "cell_type": "code",
   "execution_count": null,
   "id": "0bb9934f",
   "metadata": {},
   "outputs": [],
   "source": []
  },
  {
   "cell_type": "code",
   "execution_count": null,
   "id": "3744fb75",
   "metadata": {},
   "outputs": [],
   "source": []
  }
 ],
 "metadata": {
  "kernelspec": {
   "display_name": "python38",
   "language": "python",
   "name": "python38"
  }
 },
 "nbformat": 4,
 "nbformat_minor": 5
}
