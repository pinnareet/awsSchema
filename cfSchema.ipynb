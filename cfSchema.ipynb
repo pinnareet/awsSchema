{
 "cells": [
  {
   "cell_type": "code",
   "execution_count": 4,
   "id": "015667fb",
   "metadata": {},
   "outputs": [],
   "source": [
    "from nicHelper.dictUtil import printYaml"
   ]
  },
  {
   "cell_type": "code",
   "execution_count": 5,
   "id": "c71ed763",
   "metadata": {},
   "outputs": [],
   "source": [
    "originRequest = {\n",
    "  \"Records\": [\n",
    "    {\n",
    "      \"cf\": {\n",
    "        \"config\": {\n",
    "          \"distributionDomainName\": \"d111111abcdef8.cloudfront.net\",\n",
    "          \"distributionId\": \"EDFDVBD6EXAMPLE\",\n",
    "          \"eventType\": \"origin-request\",\n",
    "          \"requestId\": \"4TyzHTaYWb1GX1qTfsHhEqV6HUDd_BzoBZnwfnvQc_1oF26ClkoUSEQ==\"\n",
    "        },\n",
    "        \"request\": {\n",
    "          \"clientIp\": \"203.0.113.178\",\n",
    "          \"headers\": {\n",
    "            \"x-forwarded-for\": [\n",
    "              {\n",
    "                \"key\": \"X-Forwarded-For\",\n",
    "                \"value\": \"203.0.113.178\"\n",
    "              }\n",
    "            ],\n",
    "            \"user-agent\": [\n",
    "              {\n",
    "                \"key\": \"User-Agent\",\n",
    "                \"value\": \"Amazon CloudFront\"\n",
    "              }\n",
    "            ],\n",
    "            \"via\": [\n",
    "              {\n",
    "                \"key\": \"Via\",\n",
    "                \"value\": \"2.0 2afae0d44e2540f472c0635ab62c232b.cloudfront.net (CloudFront)\"\n",
    "              }\n",
    "            ],\n",
    "            \"host\": [\n",
    "              {\n",
    "                \"key\": \"Host\",\n",
    "                \"value\": \"example.org\"\n",
    "              }\n",
    "            ],\n",
    "            \"cache-control\": [\n",
    "              {\n",
    "                \"key\": \"Cache-Control\",\n",
    "                \"value\": \"no-cache, cf-no-cache\"\n",
    "              }\n",
    "            ]\n",
    "          },\n",
    "          \"method\": \"GET\",\n",
    "          \"origin\": {\n",
    "            \"custom\": {\n",
    "              \"customHeaders\": {},\n",
    "              \"domainName\": \"example.org\",\n",
    "              \"keepaliveTimeout\": 5,\n",
    "              \"path\": \"\",\n",
    "              \"port\": 443,\n",
    "              \"protocol\": \"https\",\n",
    "              \"readTimeout\": 30,\n",
    "              \"sslProtocols\": [\n",
    "                \"TLSv1\",\n",
    "                \"TLSv1.1\",\n",
    "                \"TLSv1.2\"\n",
    "              ]\n",
    "            }\n",
    "          },\n",
    "          \"querystring\": \"\",\n",
    "          \"uri\": \"/\"\n",
    "        }\n",
    "      }\n",
    "    }\n",
    "  ]\n",
    "}"
   ]
  },
  {
   "cell_type": "code",
   "execution_count": 8,
   "id": "7dd81f1e",
   "metadata": {},
   "outputs": [],
   "source": [
    "import yaml\n",
    "with open ('cfSchema/originRequest.yaml', 'w') as f:\n",
    "  f.write( yaml.dump(originRequest) )"
   ]
  },
  {
   "cell_type": "code",
   "execution_count": 11,
   "id": "e191a606",
   "metadata": {},
   "outputs": [],
   "source": [
    "originResponse =  { \"Records\": [ { \"cf\": { \"config\": { \"distributionDomainName\": \"d111111abcdef8.cloudfront.net\", \"distributionId\": \"EDFDVBD6EXAMPLE\", \"eventType\": \"origin-response\", \"requestId\": \"4TyzHTaYWb1GX1qTfsHhEqV6HUDd_BzoBZnwfnvQc_1oF26ClkoUSEQ==\" }, \"request\": { \"clientIp\": \"203.0.113.178\", \"headers\": { \"x-forwarded-for\": [ { \"key\": \"X-Forwarded-For\", \"value\": \"203.0.113.178\" } ], \"user-agent\": [ { \"key\": \"User-Agent\", \"value\": \"Amazon CloudFront\" } ], \"via\": [ { \"key\": \"Via\", \"value\": \"2.0 8f22423015641505b8c857a37450d6c0.cloudfront.net (CloudFront)\" } ], \"host\": [ { \"key\": \"Host\", \"value\": \"example.org\" } ], \"cache-control\": [ { \"key\": \"Cache-Control\", \"value\": \"no-cache, cf-no-cache\" } ] }, \"method\": \"GET\", \"origin\": { \"custom\": { \"customHeaders\": {}, \"domainName\": \"example.org\", \"keepaliveTimeout\": 5, \"path\": \"\", \"port\": 443, \"protocol\": \"https\", \"readTimeout\": 30, \"sslProtocols\": [ \"TLSv1\", \"TLSv1.1\", \"TLSv1.2\" ] } }, \"querystring\": \"\", \"uri\": \"/\" }, \"response\": { \"headers\": { \"access-control-allow-credentials\": [ { \"key\": \"Access-Control-Allow-Credentials\", \"value\": \"true\" } ], \"access-control-allow-origin\": [ { \"key\": \"Access-Control-Allow-Origin\", \"value\": \"*\" } ], \"date\": [ { \"key\": \"Date\", \"value\": \"Mon, 13 Jan 2020 20:12:38 GMT\" } ], \"referrer-policy\": [ { \"key\": \"Referrer-Policy\", \"value\": \"no-referrer-when-downgrade\" } ], \"server\": [ { \"key\": \"Server\", \"value\": \"ExampleCustomOriginServer\" } ], \"x-content-type-options\": [ { \"key\": \"X-Content-Type-Options\", \"value\": \"nosniff\" } ], \"x-frame-options\": [ { \"key\": \"X-Frame-Options\", \"value\": \"DENY\" } ], \"x-xss-protection\": [ { \"key\": \"X-XSS-Protection\", \"value\": \"1; mode=block\" } ], \"content-type\": [ { \"key\": \"Content-Type\", \"value\": \"text/html; charset=utf-8\" } ], \"content-length\": [ { \"key\": \"Content-Length\", \"value\": \"9593\" } ] }, \"status\": \"200\", \"statusDescription\": \"OK\" } } } ] }"
   ]
  },
  {
   "cell_type": "code",
   "execution_count": 12,
   "id": "3e4b9ea5",
   "metadata": {},
   "outputs": [],
   "source": [
    "import yaml\n",
    "with open ('cfSchema/originResponse.yaml', 'w') as f:\n",
    "  f.write( yaml.dump(originResponse) )"
   ]
  },
  {
   "cell_type": "code",
   "execution_count": 13,
   "id": "940c7b0f",
   "metadata": {},
   "outputs": [],
   "source": [
    "viewerRequest = { \"Records\": [ { \"cf\": { \"config\": { \"distributionDomainName\": \"d111111abcdef8.cloudfront.net\", \"distributionId\": \"EDFDVBD6EXAMPLE\", \"eventType\": \"viewer-request\", \"requestId\": \"4TyzHTaYWb1GX1qTfsHhEqV6HUDd_BzoBZnwfnvQc_1oF26ClkoUSEQ==\" }, \"request\": { \"clientIp\": \"203.0.113.178\", \"headers\": { \"host\": [ { \"key\": \"Host\", \"value\": \"d111111abcdef8.cloudfront.net\" } ], \"user-agent\": [ { \"key\": \"User-Agent\", \"value\": \"curl/7.66.0\" } ], \"accept\": [ { \"key\": \"accept\", \"value\": \"*/*\" } ] }, \"method\": \"GET\", \"querystring\": \"\", \"uri\": \"/\" } } } ] }"
   ]
  },
  {
   "cell_type": "code",
   "execution_count": 14,
   "id": "96f6ccc2",
   "metadata": {},
   "outputs": [],
   "source": [
    "import yaml\n",
    "with open ('cfSchema/viewerRequest.yaml', 'w') as f:\n",
    "  f.write( yaml.dump(viewerRequest) )"
   ]
  },
  {
   "cell_type": "code",
   "execution_count": 15,
   "id": "d0a06484",
   "metadata": {},
   "outputs": [],
   "source": [
    "viewerResponse = { \"Records\": [ { \"cf\": { \"config\": { \"distributionDomainName\": \"d111111abcdef8.cloudfront.net\", \"distributionId\": \"EDFDVBD6EXAMPLE\", \"eventType\": \"viewer-response\", \"requestId\": \"4TyzHTaYWb1GX1qTfsHhEqV6HUDd_BzoBZnwfnvQc_1oF26ClkoUSEQ==\" }, \"request\": { \"clientIp\": \"203.0.113.178\", \"headers\": { \"host\": [ { \"key\": \"Host\", \"value\": \"d111111abcdef8.cloudfront.net\" } ], \"user-agent\": [ { \"key\": \"User-Agent\", \"value\": \"curl/7.66.0\" } ], \"accept\": [ { \"key\": \"accept\", \"value\": \"*/*\" } ] }, \"method\": \"GET\", \"querystring\": \"\", \"uri\": \"/\" }, \"response\": { \"headers\": { \"access-control-allow-credentials\": [ { \"key\": \"Access-Control-Allow-Credentials\", \"value\": \"true\" } ], \"access-control-allow-origin\": [ { \"key\": \"Access-Control-Allow-Origin\", \"value\": \"*\" } ], \"date\": [ { \"key\": \"Date\", \"value\": \"Mon, 13 Jan 2020 20:14:56 GMT\" } ], \"referrer-policy\": [ { \"key\": \"Referrer-Policy\", \"value\": \"no-referrer-when-downgrade\" } ], \"server\": [ { \"key\": \"Server\", \"value\": \"ExampleCustomOriginServer\" } ], \"x-content-type-options\": [ { \"key\": \"X-Content-Type-Options\", \"value\": \"nosniff\" } ], \"x-frame-options\": [ { \"key\": \"X-Frame-Options\", \"value\": \"DENY\" } ], \"x-xss-protection\": [ { \"key\": \"X-XSS-Protection\", \"value\": \"1; mode=block\" } ], \"age\": [ { \"key\": \"Age\", \"value\": \"2402\" } ], \"content-type\": [ { \"key\": \"Content-Type\", \"value\": \"text/html; charset=utf-8\" } ], \"content-length\": [ { \"key\": \"Content-Length\", \"value\": \"9593\" } ] }, \"status\": \"200\", \"statusDescription\": \"OK\" } } } ] }"
   ]
  },
  {
   "cell_type": "code",
   "execution_count": 16,
   "id": "fa6bb368",
   "metadata": {},
   "outputs": [],
   "source": [
    "with open ('cfSchema/viewerResponse.yaml', 'w') as f:\n",
    "  f.write( yaml.dump(viewerResponse) )"
   ]
  },
  {
   "cell_type": "code",
   "execution_count": null,
   "id": "711db2b4",
   "metadata": {},
   "outputs": [],
   "source": []
  },
  {
   "cell_type": "code",
   "execution_count": null,
   "id": "bfb7c5ca",
   "metadata": {},
   "outputs": [],
   "source": []
  },
  {
   "cell_type": "code",
   "execution_count": null,
   "id": "4dd2a524",
   "metadata": {},
   "outputs": [],
   "source": []
  }
 ],
 "metadata": {
  "kernelspec": {
   "display_name": "python38",
   "language": "python",
   "name": "python38"
  },
  "language_info": {
   "codemirror_mode": {
    "name": "ipython",
    "version": 3
   },
   "file_extension": ".py",
   "mimetype": "text/x-python",
   "name": "python",
   "nbconvert_exporter": "python",
   "pygments_lexer": "ipython3",
   "version": "3.8.8"
  }
 },
 "nbformat": 4,
 "nbformat_minor": 5
}
