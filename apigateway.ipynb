{
 "cells": [
  {
   "cell_type": "code",
   "execution_count": null,
   "metadata": {},
   "outputs": [],
   "source": [
    "# default_exp apigateway"
   ]
  },
  {
   "cell_type": "markdown",
   "metadata": {},
   "source": [
    "# apigateway schema for lambda proxy integration\n"
   ]
  },
  {
   "cell_type": "code",
   "execution_count": null,
   "metadata": {},
   "outputs": [],
   "source": [
    "#hide\n",
    "from nbdev.showdoc import *"
   ]
  },
  {
   "cell_type": "code",
   "execution_count": null,
   "metadata": {},
   "outputs": [],
   "source": [
    "#export\n",
    "from dataclasses import field\n",
    "from dataclasses import dataclass, field\n",
    "from dataclasses_json import dataclass_json, Undefined\n",
    "from pprint import pformat\n",
    "from typing import Optional, List, Callable, Any\n",
    "import ujson as json\n",
    "\n",
    "@dataclass_json\n",
    "@dataclass\n",
    "class Response:\n",
    "  '''\n",
    "    parse response from apigateway\n",
    "  '''\n",
    "  body: str\n",
    "  statusCode: int = 200\n",
    "  headers: dict = field(default_factory = dict)\n",
    "  @classmethod\n",
    "  def fromDict(cls, dictInput:dict):\n",
    "    '''\n",
    "      output object from Dict,\n",
    "      dictInput should follow apigateway proxy integration\n",
    "    '''\n",
    "    body = dictInput.pop('body')\n",
    "    return cls(\n",
    "      body = json.loads(body),\n",
    "      **dictInput\n",
    "    )\n",
    "  @classmethod\n",
    "  def getReturn(cls, body:dict, headers:dict = {}, statusCode:int = 200)->dict:\n",
    "    '''\n",
    "      output dictionary which is suitable for apigateway proxy integration return\n",
    "    '''\n",
    "    returnObj = cls(\n",
    "      body = json.dumps(body),\n",
    "      headers = headers,\n",
    "      statusCode = statusCode\n",
    "                   ).to_dict()\n",
    "    return returnObj\n",
    "  @classmethod\n",
    "  def returnError(cls, message:str, statusCode:int = 400, **kwargs)->dict:\n",
    "    return cls.getReturn(statusCode = 400, body = {'error': message})\n",
    "  @classmethod\n",
    "  def returnSuccess(cls, body:dict = {}, **kwargs)->dict:\n",
    "    return cls.getReturn(statusCode = 200, body = body, **kwargs)\n",
    "  \n",
    "@dataclass_json(undefined=Undefined.EXCLUDE)\n",
    "@dataclass\n",
    "class Event:\n",
    "  '''\n",
    "    parse event from apigateway\n",
    "  '''\n",
    "  body: str\n",
    "  headers: dict = field(default_factory = dict)\n",
    "  statusCode: int = 200\n",
    "  def getBody(self):\n",
    "    return json.loads(self.body)\n",
    "  def getProducts(self):\n",
    "    return Products.from_json(self.body)\n",
    "  def getKey(self, key='product'):\n",
    "    return body.get(key)\n",
    "  key = lambda self: json.loads(self.body)['key']\n",
    "  firstKey = lambda self: next(iter(json.loads(self.body).items()))\n",
    "  @classmethod\n",
    "  def parseBody(cls, event):\n",
    "    return cls.from_dict(event).getBody()\n",
    "@dataclass_json\n",
    "@dataclass\n",
    "class Product:\n",
    "  cprcode: str\n",
    "  iprcode: str\n",
    "  oprcode: str\n",
    "  ordertype: str\n",
    "  pr_abb: str\n",
    "@dataclass_json\n",
    "@dataclass\n",
    "class Products:\n",
    "  products: List[Product]"
   ]
  },
  {
   "cell_type": "markdown",
   "metadata": {},
   "source": [
    "# Examples"
   ]
  },
  {
   "cell_type": "code",
   "execution_count": null,
   "metadata": {},
   "outputs": [
    {
     "name": "stdout",
     "output_type": "stream",
     "text": [
      "{'body': '{\"test\":\"test\"}', 'headers': {}, 'statusCode': 200}\n"
     ]
    }
   ],
   "source": [
    "event = Event(body = json.dumps({'test':'test'})).to_dict()\n",
    "print(event)"
   ]
  },
  {
   "cell_type": "code",
   "execution_count": null,
   "metadata": {},
   "outputs": [
    {
     "data": {
      "text/plain": [
       "{'test': 'test'}"
      ]
     },
     "execution_count": null,
     "metadata": {},
     "output_type": "execute_result"
    }
   ],
   "source": [
    "Event.parseBody(event)"
   ]
  },
  {
   "cell_type": "code",
   "execution_count": null,
   "metadata": {},
   "outputs": [
    {
     "data": {
      "text/plain": [
       "{'body': '{\"success\":\"true\"}', 'statusCode': 200, 'headers': {}}"
      ]
     },
     "execution_count": null,
     "metadata": {},
     "output_type": "execute_result"
    }
   ],
   "source": [
    "Response.returnSuccess(body = {'success':'true'})"
   ]
  },
  {
   "cell_type": "code",
   "execution_count": null,
   "metadata": {},
   "outputs": [
    {
     "data": {
      "text/plain": [
       "{'body': '{\"error\":\"error\"}', 'statusCode': 400, 'headers': {}}"
      ]
     },
     "execution_count": null,
     "metadata": {},
     "output_type": "execute_result"
    }
   ],
   "source": [
    "Response.returnError(message='error')"
   ]
  },
  {
   "cell_type": "code",
   "execution_count": null,
   "metadata": {},
   "outputs": [],
   "source": []
  }
 ],
 "metadata": {
  "kernelspec": {
   "display_name": "python38",
   "language": "python",
   "name": "python38"
  },
  "language_info": {
   "codemirror_mode": {
    "name": "ipython",
    "version": 3
   },
   "file_extension": ".py",
   "mimetype": "text/x-python",
   "name": "python",
   "nbconvert_exporter": "python",
   "pygments_lexer": "ipython3",
   "version": "3.8.6"
  }
 },
 "nbformat": 4,
 "nbformat_minor": 4
}
