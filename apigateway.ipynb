{
 "cells": [
  {
   "cell_type": "code",
   "execution_count": null,
   "metadata": {},
   "outputs": [],
   "source": [
    "# default_exp apigateway"
   ]
  },
  {
   "cell_type": "markdown",
   "metadata": {},
   "source": [
    "# apigateway schema for lambda proxy integration\n"
   ]
  },
  {
   "cell_type": "code",
   "execution_count": null,
   "metadata": {},
   "outputs": [],
   "source": [
    "#hide\n",
    "from nbdev.showdoc import *"
   ]
  },
  {
   "cell_type": "code",
   "execution_count": null,
   "metadata": {},
   "outputs": [],
   "source": [
    "#export\n",
    "from dataclasses import field\n",
    "from dataclasses import dataclass, field\n",
    "from dataclasses_json import dataclass_json, Undefined\n",
    "from pprint import pformat\n",
    "from typing import Optional, List, Callable, Any\n",
    "import ujson as json\n",
    "\n",
    "@dataclass_json\n",
    "@dataclass\n",
    "class Response:\n",
    "  '''\n",
    "    parse response from apigateway\n",
    "  '''\n",
    "  body: Optional[str]\n",
    "  statusCode: int = 200\n",
    "  headers: dict = field(default_factory = dict)\n",
    "  @classmethod\n",
    "  def parseBody(cls, dictInput:dict):\n",
    "    response = cls.fromDict(dictInput)\n",
    "    return response.body\n",
    "  @classmethod\n",
    "  def parseHeaders(cls, dictInput:dict):\n",
    "    response = cls.fromDict(dictInput)\n",
    "    return response.headers\n",
    "  \n",
    "  @classmethod\n",
    "  def fromDict(cls, dictInput:dict):\n",
    "    '''\n",
    "      output object from Dict,\n",
    "      dictInput should follow apigateway proxy integration\n",
    "    '''\n",
    "    body = dictInput.pop('body')\n",
    "    return cls(\n",
    "      body = json.loads(body),\n",
    "      **dictInput\n",
    "    )\n",
    "  @classmethod\n",
    "  def getReturn(cls, body:dict, headers:dict = {\n",
    "            'Access-Control-Allow-Headers': '*',\n",
    "            'Access-Control-Allow-Origin': '*',\n",
    "            'Access-Control-Allow-Methods': '*',\n",
    "        }, \n",
    "        statusCode:int = 200)->dict:\n",
    "    '''\n",
    "      output dictionary which is suitable for apigateway proxy integration return\n",
    "    '''\n",
    "    returnObj = cls(\n",
    "      body = json.dumps(body),\n",
    "      headers = headers,\n",
    "      statusCode = statusCode\n",
    "                   ).to_dict()\n",
    "    return returnObj\n",
    "  @classmethod\n",
    "  def returnError(cls, message:str, statusCode:int = 400, **kwargs)->dict:\n",
    "    '''add override statusCode Here by putting in the values directly'''\n",
    "    return cls.getReturn(statusCode = statusCode, body = {'error': message})\n",
    "  @classmethod\n",
    "  def returnSuccess(cls, body:dict = {}, statusCode:int = 200, **kwargs)->dict:\n",
    "    '''add override statusCode Here'''\n",
    "    return cls.getReturn(statusCode = statusCode, body = body, **kwargs)\n",
    "  \n",
    "@dataclass_json(undefined=Undefined.EXCLUDE)\n",
    "@dataclass\n",
    "class Event:\n",
    "  '''\n",
    "    parse event from apigateway\n",
    "  '''\n",
    "  body: str\n",
    "    \n",
    "  httpMethod: Optional[str] = None\n",
    "  multiValueHeaders: Optional[dict] = None\n",
    "  multiValueQueryStringParameters: Optional[dict] = None\n",
    "  path: Optional[str] = None\n",
    "  pathParameters: Optional[dict] = None\n",
    "  queryStringParameters: Optional[dict] = None\n",
    "  requestContext: Optional[dict] = None\n",
    "    \n",
    "  headers: dict = field(default_factory = dict)\n",
    "  statusCode: int = 200\n",
    "  isBase64Encoded: bool = False\n",
    "    \n",
    "  def getBody(self,*args):\n",
    "    try:\n",
    "      return json.loads(self.body)\n",
    "    except:\n",
    "      return Event.parseBody(self,*args)\n",
    "  def getProducts(self):\n",
    "    return Products.from_json(self.body)\n",
    "  def getKey(self, key='product'):\n",
    "    return self.body.get(key)\n",
    "  \n",
    "  key = lambda self: json.loads(self.body)['key']\n",
    "  firstKey = lambda self: next(iter(json.loads(self.body).items()))\n",
    "  @classmethod\n",
    "  def parseBody(cls, event, *args):\n",
    "    return cls.from_dict(event).getBody()\n",
    "  @classmethod\n",
    "  def parseHeaders(cls, event, *args):\n",
    "    return cls.from_dict(event).headers\n",
    "  @classmethod\n",
    "  def parseQuery(cls, event, *args):\n",
    "    return cls.from_dict(event).queryStringParameters\n",
    "  @classmethod\n",
    "  def parsePath(cls, event, *args):\n",
    "    return cls.from_dict(event).path\n",
    "  @classmethod\n",
    "  def getInput(cls, body={},headers={},statusCode=200,queryStringParameters={}):\n",
    "    '''\n",
    "    crate innput for mocking up the object\n",
    "    '''\n",
    "    return cls(body=json.dumps(body),headers=headers,\n",
    "               statusCode=statusCode,queryStringParameters=queryStringParameters).to_dict()\n",
    "  @classmethod\n",
    "  def parseDataClass(cls, customClass, event):\n",
    "    body = cls.getBody(event)\n",
    "    try:\n",
    "      return customClass.from_dict(body)\n",
    "    except Exception as e:\n",
    "      raise Exception(f'unable to parse input{e}, should have the schema {customClass.__doc__},\\\n",
    "        but the current input is {body}')\n",
    "  \n",
    "@dataclass_json\n",
    "@dataclass\n",
    "class Product:\n",
    "  cprcode: str\n",
    "  iprcode: str\n",
    "  oprcode: str\n",
    "  ordertype: str\n",
    "  pr_abb: str\n",
    "@dataclass_json\n",
    "@dataclass\n",
    "class Products:\n",
    "  products: List[Product]"
   ]
  },
  {
   "cell_type": "markdown",
   "metadata": {},
   "source": [
    "# Examples"
   ]
  },
  {
   "cell_type": "code",
   "execution_count": null,
   "metadata": {},
   "outputs": [
    {
     "name": "stdout",
     "output_type": "stream",
     "text": [
      "{'body': '{\"test\":\"test\"}', 'httpMethod': None, 'multiValueHeaders': None, 'multiValueQueryStringParameters': None, 'path': None, 'pathParameters': None, 'queryStringParameters': None, 'requestContext': None, 'headers': {}, 'statusCode': 200, 'isBase64Encoded': False}\n"
     ]
    }
   ],
   "source": [
    "event = Event(body = json.dumps({'test':'test'})).to_dict()\n",
    "print(event)"
   ]
  },
  {
   "cell_type": "code",
   "execution_count": null,
   "metadata": {},
   "outputs": [
    {
     "data": {
      "text/plain": [
       "{'test': 'test'}"
      ]
     },
     "execution_count": null,
     "metadata": {},
     "output_type": "execute_result"
    }
   ],
   "source": [
    "Event.parseBody(event)"
   ]
  },
  {
   "cell_type": "markdown",
   "metadata": {},
   "source": [
    "## Returning response"
   ]
  },
  {
   "cell_type": "markdown",
   "metadata": {},
   "source": [
    "### success"
   ]
  },
  {
   "cell_type": "code",
   "execution_count": null,
   "metadata": {},
   "outputs": [
    {
     "data": {
      "text/plain": [
       "{'body': '{\"success\":\"true\"}',\n",
       " 'statusCode': 200,\n",
       " 'headers': {'Access-Control-Allow-Headers': '*',\n",
       "  'Access-Control-Allow-Origin': '*',\n",
       "  'Access-Control-Allow-Methods': '*'}}"
      ]
     },
     "execution_count": null,
     "metadata": {},
     "output_type": "execute_result"
    }
   ],
   "source": [
    "#### just body\n",
    "Response.returnSuccess(body = {'success':'true'})"
   ]
  },
  {
   "cell_type": "code",
   "execution_count": null,
   "metadata": {},
   "outputs": [
    {
     "data": {
      "text/plain": [
       "{'body': '{\"success\":\"true\"}',\n",
       " 'statusCode': 206,\n",
       " 'headers': {'Access-Control-Allow-Headers': '*',\n",
       "  'Access-Control-Allow-Origin': '*',\n",
       "  'Access-Control-Allow-Methods': '*'}}"
      ]
     },
     "execution_count": null,
     "metadata": {},
     "output_type": "execute_result"
    }
   ],
   "source": [
    "#### override statusCode\n",
    "Response.returnSuccess(statusCode = 206, body = {'success':'true'})"
   ]
  },
  {
   "cell_type": "code",
   "execution_count": null,
   "metadata": {},
   "outputs": [
    {
     "data": {
      "text/plain": [
       "{'body': 'null',\n",
       " 'statusCode': 200,\n",
       " 'headers': {'Access-Control-Allow-Headers': '*',\n",
       "  'Access-Control-Allow-Origin': '*',\n",
       "  'Access-Control-Allow-Methods': '*'}}"
      ]
     },
     "execution_count": null,
     "metadata": {},
     "output_type": "execute_result"
    }
   ],
   "source": [
    "#### without body\n",
    "Response.returnSuccess(body = None)"
   ]
  },
  {
   "cell_type": "code",
   "execution_count": null,
   "metadata": {},
   "outputs": [
    {
     "data": {
      "text/plain": [
       "{'body': '{}',\n",
       " 'statusCode': 200,\n",
       " 'headers': {'Access-Control-Allow-Headers': '*',\n",
       "  'Access-Control-Allow-Origin': '*',\n",
       "  'Access-Control-Allow-Methods': '*'}}"
      ]
     },
     "execution_count": null,
     "metadata": {},
     "output_type": "execute_result"
    }
   ],
   "source": [
    "# standard\n",
    "Response.returnSuccess(body = {})"
   ]
  },
  {
   "cell_type": "markdown",
   "metadata": {},
   "source": [
    "### Error"
   ]
  },
  {
   "cell_type": "code",
   "execution_count": null,
   "metadata": {},
   "outputs": [
    {
     "data": {
      "text/plain": [
       "{'body': '{\"error\":\"error\"}',\n",
       " 'statusCode': 402,\n",
       " 'headers': {'Access-Control-Allow-Headers': '*',\n",
       "  'Access-Control-Allow-Origin': '*',\n",
       "  'Access-Control-Allow-Methods': '*'}}"
      ]
     },
     "execution_count": null,
     "metadata": {},
     "output_type": "execute_result"
    }
   ],
   "source": [
    "Response.returnError(statusCode = 402, message='error')"
   ]
  },
  {
   "cell_type": "markdown",
   "metadata": {},
   "source": [
    "responseDict = Response.returnSuccess(body = {'success':'true'})\n",
    "Response.fromDict(responseDict)"
   ]
  },
  {
   "cell_type": "code",
   "execution_count": null,
   "metadata": {},
   "outputs": [
    {
     "data": {
      "text/plain": [
       "{'body': '{\"input\":\"123\"}',\n",
       " 'httpMethod': None,\n",
       " 'multiValueHeaders': None,\n",
       " 'multiValueQueryStringParameters': None,\n",
       " 'path': None,\n",
       " 'pathParameters': None,\n",
       " 'queryStringParameters': {'test': '123'},\n",
       " 'requestContext': None,\n",
       " 'headers': {},\n",
       " 'statusCode': 200,\n",
       " 'isBase64Encoded': False}"
      ]
     },
     "execution_count": null,
     "metadata": {},
     "output_type": "execute_result"
    }
   ],
   "source": [
    "event = Event.getInput(body={'input':'123'}, queryStringParameters={'test':'123'})\n",
    "event"
   ]
  },
  {
   "cell_type": "markdown",
   "metadata": {},
   "source": [
    "## Parsing requests"
   ]
  },
  {
   "cell_type": "code",
   "execution_count": null,
   "metadata": {},
   "outputs": [],
   "source": [
    "with open('./testData/sampleEvent.json') as f:\n",
    "  sampleEvent = json.load(f)['input']"
   ]
  },
  {
   "cell_type": "markdown",
   "metadata": {},
   "source": [
    "### get inidividual features"
   ]
  },
  {
   "cell_type": "markdown",
   "metadata": {},
   "source": [
    "#### body"
   ]
  },
  {
   "cell_type": "code",
   "execution_count": null,
   "metadata": {},
   "outputs": [
    {
     "name": "stdout",
     "output_type": "stream",
     "text": [
      "{'a': 1}\n"
     ]
    }
   ],
   "source": [
    "body = Event.parseBody(sampleEvent)\n",
    "assert body == json.loads(Event.from_dict(sampleEvent).body)\n",
    "print(body)"
   ]
  },
  {
   "cell_type": "code",
   "execution_count": null,
   "metadata": {},
   "outputs": [
    {
     "name": "stdout",
     "output_type": "stream",
     "text": [
      "{'Accept': '*/*', 'Accept-Encoding': 'gzip, deflate', 'cache-control': 'no-cache', 'CloudFront-Forwarded-Proto': 'https', 'CloudFront-Is-Desktop-Viewer': 'true', 'CloudFront-Is-Mobile-Viewer': 'false', 'CloudFront-Is-SmartTV-Viewer': 'false', 'CloudFront-Is-Tablet-Viewer': 'false', 'CloudFront-Viewer-Country': 'US', 'Content-Type': 'application/json', 'headerName': 'headerValue', 'Host': 'gy415nuibc.execute-api.us-east-1.amazonaws.com', 'Postman-Token': '9f583ef0-ed83-4a38-aef3-eb9ce3f7a57f', 'User-Agent': 'PostmanRuntime/2.4.5', 'Via': '1.1 d98420743a69852491bbdea73f7680bd.cloudfront.net (CloudFront)', 'X-Amz-Cf-Id': 'pn-PWIJc6thYnZm5P0NMgOUglL1DYtl0gdeJky8tqsg8iS_sgsKD1A==', 'X-Forwarded-For': '54.240.196.186, 54.182.214.83', 'X-Forwarded-Port': '443', 'X-Forwarded-Proto': 'https'}\n"
     ]
    }
   ],
   "source": [
    "#### header\n",
    "headers = Event.parseHeaders(sampleEvent)\n",
    "assert headers == Event.from_dict(sampleEvent).headers\n",
    "print(headers)"
   ]
  },
  {
   "cell_type": "code",
   "execution_count": null,
   "metadata": {},
   "outputs": [
    {
     "name": "stdout",
     "output_type": "stream",
     "text": [
      "{'name': 'me', 'multivalueName': 'me'}\n"
     ]
    }
   ],
   "source": [
    "#### query String\n",
    "query = Event.parseQuery(sampleEvent)\n",
    "assert query ==Event.from_dict(sampleEvent).queryStringParameters\n",
    "print(query)"
   ]
  },
  {
   "cell_type": "code",
   "execution_count": null,
   "metadata": {},
   "outputs": [
    {
     "name": "stdout",
     "output_type": "stream",
     "text": [
      "/hello/world\n"
     ]
    }
   ],
   "source": [
    "#### path\n",
    "path = Event.parsePath(sampleEvent)\n",
    "assert path == Event.from_dict(sampleEvent).path\n",
    "print(path)"
   ]
  },
  {
   "cell_type": "markdown",
   "metadata": {},
   "source": [
    "## Parsing data class directly"
   ]
  },
  {
   "cell_type": "code",
   "execution_count": null,
   "metadata": {},
   "outputs": [
    {
     "data": {
      "text/plain": [
       "Product(cprcode='123', iprcode='123', oprcode='12343', ordertype='3225', pr_abb='4563')"
      ]
     },
     "execution_count": null,
     "metadata": {},
     "output_type": "execute_result"
    }
   ],
   "source": [
    "productDict = Product(\n",
    "  cprcode='123',\n",
    "  iprcode='123',\n",
    "  oprcode= '12343',\n",
    "  ordertype='3225',\n",
    "  pr_abb='4563'\n",
    ").to_dict()\n",
    "event = Event.getInput(productDict)\n",
    "Event.parseDataClass(Product, event)"
   ]
  },
  {
   "cell_type": "code",
   "execution_count": null,
   "metadata": {},
   "outputs": [
    {
     "name": "stdout",
     "output_type": "stream",
     "text": [
      "testing load file\n",
      "testing save file\n",
      "test increase version\n"
     ]
    }
   ],
   "source": [
    "import re\n",
    "from beartype import beartype\n",
    "@beartype\n",
    "def increaseVersion(string:str)->str:\n",
    "  '''\n",
    "  increase version number of the pip package by 1\n",
    "  '''\n",
    "  match = next(re.finditer(r'\\d.\\d.\\d*', string))\n",
    "  lastDigits = int(match.group().split('.')[-1])\n",
    "  newSubVersionList = match.group().split('.')\n",
    "  newSubVersionList[-1] = str(lastDigits + 1)\n",
    "  newVersionString = '.'.join(newSubVersionList)\n",
    "  wholeString = re.sub(r'\\d.\\d.\\d*',newVersionString,string)\n",
    "  return wholeString\n",
    "\n",
    "@beartype\n",
    "def loadFile(fileName:str= './settings.ini')->str:\n",
    "  with open(fileName, 'r') as f:\n",
    "    file = f.read()\n",
    "    return file\n",
    "  \n",
    "@beartype\n",
    "def saveFile(data,fileName='./settings.ini.bak')->str:\n",
    "  with open(fileName, 'w') as f:\n",
    "    f.write(data)\n",
    "    return data\n",
    "  \n",
    "@beartype\n",
    "def replaceContent(originalContent:str)->str:\n",
    "  newFile = ''\n",
    "  for line in file.split('\\n'):\n",
    "    newFile += '\\n'\n",
    "    if 'version' in line:\n",
    "      newFile += increaseVersion(line)\n",
    "    else:\n",
    "      newFile += line\n",
    "\n",
    "def testIncreaseVersion():\n",
    "  fileName = 'settings.ini'\n",
    "  tempFileName = 'settings.ini.bak'\n",
    "  fileString:str = loadFile(fileName)\n",
    "  print('testing load file')\n",
    "  assert fileString == open(fileName, 'r').read()\n",
    "  print('testing save file')\n",
    "  saveFile(fileString, fileName = tempFileName)\n",
    "  assert fileString == open(tempFileName, 'r').read()\n",
    "  print('test increase version')\n",
    "\n",
    "# !cat settings.ini.bak\n",
    "testIncreaseVersion()\n",
    "      \n",
    "    "
   ]
  },
  {
   "cell_type": "code",
   "execution_count": null,
   "metadata": {},
   "outputs": [
    {
     "data": {
      "text/plain": [
       "'version = 0.0.15'"
      ]
     },
     "execution_count": null,
     "metadata": {},
     "output_type": "execute_result"
    }
   ],
   "source": [
    "string = 'version = 0.0.14'\n",
    "increaseVersion(string)"
   ]
  },
  {
   "cell_type": "code",
   "execution_count": null,
   "metadata": {},
   "outputs": [],
   "source": []
  },
  {
   "cell_type": "markdown",
   "metadata": {},
   "source": [
    "# APIGATEWAY schemas"
   ]
  },
  {
   "cell_type": "markdown",
   "metadata": {},
   "source": [
    "## Requests"
   ]
  },
  {
   "cell_type": "code",
   "execution_count": null,
   "metadata": {},
   "outputs": [
    {
     "name": "stdout",
     "output_type": "stream",
     "text": [
      "body: A JSON string of the request payload.\n",
      "headers: '{String containing incoming request headers}'\n",
      "httpMethod: Incoming request's method name\n",
      "isBase64Encoded: A boolean flag to indicate if the applicable request payload is Base64-encoded\n",
      "multiValueHeaders: '{List of strings containing incoming request headers}'\n",
      "multiValueQueryStringParameters: '{List of query string parameters}'\n",
      "path: Path parameter\n",
      "pathParameters: '{path parameters}'\n",
      "queryStringParameters: '{query string parameters }'\n",
      "requestContext: '{Request context, including authorizer-returned key-value pairs}'\n",
      "resource: Resource path\n",
      "stageVariables: '{Applicable stage variables}'\n",
      "\n"
     ]
    }
   ],
   "source": [
    "import yaml\n",
    "schema = {\n",
    "    \"resource\": \"Resource path\",\n",
    "    \"path\": \"Path parameter\",\n",
    "    \"httpMethod\": \"Incoming request's method name\",\n",
    "    \"headers\": \"{String containing incoming request headers}\",\n",
    "    \"multiValueHeaders\": \"{List of strings containing incoming request headers}\",\n",
    "    \"queryStringParameters\": \"{query string parameters }\",\n",
    "    \"multiValueQueryStringParameters\": \"{List of query string parameters}\",\n",
    "    \"pathParameters\":  \"{path parameters}\",\n",
    "    \"stageVariables\": \"{Applicable stage variables}\",\n",
    "    \"requestContext\": \"{Request context, including authorizer-returned key-value pairs}\",\n",
    "    \"body\": \"A JSON string of the request payload.\",\n",
    "    \"isBase64Encoded\": \"A boolean flag to indicate if the applicable request payload is Base64-encoded\",\n",
    "}\n",
    "print(yaml.dump(schema))"
   ]
  },
  {
   "cell_type": "markdown",
   "metadata": {},
   "source": [
    "## Response"
   ]
  },
  {
   "cell_type": "code",
   "execution_count": null,
   "metadata": {},
   "outputs": [
    {
     "name": "stdout",
     "output_type": "stream",
     "text": [
      "body: '...'\n",
      "headers:\n",
      "  headerName: headerValue\n",
      "isBase64Encoded: bool\n",
      "multiValueHeaders:\n",
      "  headerName:\n",
      "  - headerValue\n",
      "  - headerValue2\n",
      "statusCode: int\n",
      "\n"
     ]
    }
   ],
   "source": [
    "schema = {\n",
    "    \"isBase64Encoded\": 'bool',\n",
    "    \"statusCode\": 'int',\n",
    "    \"headers\": { \"headerName\": \"headerValue\" },\n",
    "    \"multiValueHeaders\": { \"headerName\": [\"headerValue\", \"headerValue2\"]   },\n",
    "    \"body\": \"...\"\n",
    "}\n",
    "print(yaml.dump(schema))"
   ]
  },
  {
   "cell_type": "code",
   "execution_count": null,
   "metadata": {},
   "outputs": [],
   "source": []
  }
 ],
 "metadata": {
  "kernelspec": {
   "display_name": "python38",
   "language": "python",
   "name": "python38"
  }
 },
 "nbformat": 4,
 "nbformat_minor": 4
}
