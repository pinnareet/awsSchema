{
 "cells": [
  {
   "cell_type": "code",
   "execution_count": 1,
   "metadata": {},
   "outputs": [],
   "source": [
    "#hide\n",
    "from awsSchema.apigateway import *"
   ]
  },
  {
   "cell_type": "markdown",
   "metadata": {},
   "source": [
    "# AWS_SCHEMA\n",
    "\n",
    "> dataclass for aws dictionaries"
   ]
  },
  {
   "cell_type": "markdown",
   "metadata": {},
   "source": [
    "This library aims to parse aws dictionaries and json strings into dataclass objects"
   ]
  },
  {
   "cell_type": "markdown",
   "metadata": {},
   "source": [
    "## Install"
   ]
  },
  {
   "cell_type": "markdown",
   "metadata": {},
   "source": [
    "`pip install awsSchema`"
   ]
  },
  {
   "cell_type": "markdown",
   "metadata": {},
   "source": [
    "## How to use"
   ]
  },
  {
   "cell_type": "markdown",
   "metadata": {},
   "source": [
    "extract data from aws classes eg apigateway lambda input/output\n",
    "this library uses jsondataclass, and dataclass"
   ]
  },
  {
   "cell_type": "code",
   "execution_count": 2,
   "metadata": {},
   "outputs": [],
   "source": [
    "from awsSchema.apigateway import Response, Event"
   ]
  },
  {
   "cell_type": "markdown",
   "metadata": {},
   "source": [
    "## parsing event"
   ]
  },
  {
   "cell_type": "code",
   "execution_count": 3,
   "metadata": {},
   "outputs": [
    {
     "data": {
      "text/plain": [
       "Event(body='{\\r\\n\\t\"a\": 1\\r\\n}', headers={'Accept': '*/*', 'Accept-Encoding': 'gzip, deflate', 'cache-control': 'no-cache', 'CloudFront-Forwarded-Proto': 'https', 'CloudFront-Is-Desktop-Viewer': 'true', 'CloudFront-Is-Mobile-Viewer': 'False', 'CloudFront-Is-SmartTV-Viewer': 'False', 'CloudFront-Is-Tablet-Viewer': 'False', 'CloudFront-Viewer-Country': 'US', 'Content-Type': 'application/json', 'headerName': 'headerValue', 'Host': 'gy415nuibc.execute-api.us-east-1.amazonaws.com', 'Postman-Token': '9f583ef0-ed83-4a38-aef3-eb9ce3f7a57f', 'User-Agent': 'PostmanRuntime/2.4.5', 'Via': '1.1 d98420743a69852491bbdea73f7680bd.cloudfront.net (CloudFront)', 'X-Amz-Cf-Id': 'pn-PWIJc6thYnZm5P0NMgOUglL1DYtl0gdeJky8tqsg8iS_sgsKD1A==', 'X-Forwarded-For': '54.240.196.186, 54.182.214.83', 'X-Forwarded-Port': '443', 'X-Forwarded-Proto': 'https'}, statusCode=200)"
      ]
     },
     "execution_count": 3,
     "metadata": {},
     "output_type": "execute_result"
    }
   ],
   "source": [
    "dummyEvent =  { \"resource\": \"/{proxy+}\", \"path\": \"/hello/world\", \"httpMethod\": \"POST\", \"headers\": { \"Accept\": \"*/*\", \"Accept-Encoding\": \"gzip, deflate\", \"cache-control\": \"no-cache\", \"CloudFront-Forwarded-Proto\": \"https\", \"CloudFront-Is-Desktop-Viewer\": \"true\", \"CloudFront-Is-Mobile-Viewer\": \"False\", \"CloudFront-Is-SmartTV-Viewer\": \"False\", \"CloudFront-Is-Tablet-Viewer\": \"False\", \"CloudFront-Viewer-Country\": \"US\", \"Content-Type\": \"application/json\", \"headerName\": \"headerValue\", \"Host\": \"gy415nuibc.execute-api.us-east-1.amazonaws.com\", \"Postman-Token\": \"9f583ef0-ed83-4a38-aef3-eb9ce3f7a57f\", \"User-Agent\": \"PostmanRuntime/2.4.5\", \"Via\": \"1.1 d98420743a69852491bbdea73f7680bd.cloudfront.net (CloudFront)\", \"X-Amz-Cf-Id\": \"pn-PWIJc6thYnZm5P0NMgOUglL1DYtl0gdeJky8tqsg8iS_sgsKD1A==\", \"X-Forwarded-For\": \"54.240.196.186, 54.182.214.83\", \"X-Forwarded-Port\": \"443\", \"X-Forwarded-Proto\": \"https\" }, \"multiValueHeaders\":{ 'Accept':[ \"*/*\" ], 'Accept-Encoding':[ \"gzip, deflate\" ], 'cache-control':[ \"no-cache\" ], 'CloudFront-Forwarded-Proto':[ \"https\" ], 'CloudFront-Is-Desktop-Viewer':[ \"true\" ], 'CloudFront-Is-Mobile-Viewer':[ \"False\" ], 'CloudFront-Is-SmartTV-Viewer':[ \"False\" ], 'CloudFront-Is-Tablet-Viewer':[ \"False\" ], 'CloudFront-Viewer-Country':[ \"US\" ], '':[ \"\" ], 'Content-Type':[ \"application/json\" ], 'headerName':[ \"headerValue\" ], 'Host':[ \"gy415nuibc.execute-api.us-east-1.amazonaws.com\" ], 'Postman-Token':[ \"9f583ef0-ed83-4a38-aef3-eb9ce3f7a57f\" ], 'User-Agent':[ \"PostmanRuntime/2.4.5\" ], 'Via':[ \"1.1 d98420743a69852491bbdea73f7680bd.cloudfront.net (CloudFront)\" ], 'X-Amz-Cf-Id':[ \"pn-PWIJc6thYnZm5P0NMgOUglL1DYtl0gdeJky8tqsg8iS_sgsKD1A==\" ], 'X-Forwarded-For':[ \"54.240.196.186, 54.182.214.83\" ], 'X-Forwarded-Port':[ \"443\" ], 'X-Forwarded-Proto':[ \"https\" ] }, \"queryStringParameters\": { \"name\": \"me\", \"multivalueName\": \"me\" }, \"multiValueQueryStringParameters\":{ \"name\":[ \"me\" ], \"multivalueName\":[ \"you\", \"me\" ] }, \"pathParameters\": { \"proxy\": \"hello/world\" }, \"stageVariables\": { \"stageVariableName\": \"stageVariableValue\" }, \"requestContext\": { \"accountId\": \"12345678912\", \"resourceId\": \"roq9wj\", \"stage\": \"testStage\", \"requestId\": \"deef4878-7910-11e6-8f14-25afc3e9ae33\", \"identity\": { \"cognitoIdentityPoolId\": None, \"accountId\": None, \"cognitoIdentityId\": None, \"caller\": None, \"apiKey\": None, \"sourceIp\": \"192.168.196.186\", \"cognitoAuthenticationType\": None, \"cognitoAuthenticationProvider\": None, \"userArn\": None, \"userAgent\": \"PostmanRuntime/2.4.5\", \"user\": None }, \"resourcePath\": \"/{proxy+}\", \"httpMethod\": \"POST\", \"apiId\": \"gy415nuibc\" }, \"body\": \"{\\r\\n\\t\\\"a\\\": 1\\r\\n}\", \"isBase64Encoded\": False }\n",
    "event = Event.from_dict(dummyEvent)\n",
    "event"
   ]
  },
  {
   "cell_type": "markdown",
   "metadata": {},
   "source": [
    "### parsing for body"
   ]
  },
  {
   "cell_type": "code",
   "execution_count": 4,
   "metadata": {},
   "outputs": [
    {
     "data": {
      "text/plain": [
       "{'a': 1}"
      ]
     },
     "execution_count": 4,
     "metadata": {},
     "output_type": "execute_result"
    }
   ],
   "source": [
    "Event.parseBody(dummyEvent)"
   ]
  },
  {
   "cell_type": "markdown",
   "metadata": {},
   "source": [
    "## creating response for lambda"
   ]
  },
  {
   "cell_type": "code",
   "execution_count": 8,
   "metadata": {},
   "outputs": [
    {
     "name": "stdout",
     "output_type": "stream",
     "text": [
      "{'body': '{\"hello\":\"world\"}', 'statusCode': 200, 'headers': {}}\n",
      "{'body': '{\"error\":\"error\"}', 'statusCode': 400, 'headers': {}}\n"
     ]
    }
   ],
   "source": [
    "print(Response.returnSuccess(body={'hello':'world'}))\n",
    "print(Response.returnError(message='error'))"
   ]
  },
  {
   "cell_type": "markdown",
   "metadata": {},
   "source": [
    "## Use in lambda function"
   ]
  },
  {
   "cell_type": "code",
   "execution_count": 10,
   "metadata": {},
   "outputs": [
    {
     "data": {
      "text/plain": [
       "{'body': '{\"success\":\"true\"}', 'statusCode': 200, 'headers': {}}"
      ]
     },
     "execution_count": 10,
     "metadata": {},
     "output_type": "execute_result"
    }
   ],
   "source": [
    "def lambda_handler(event, *args):\n",
    "  # parsing event body\n",
    "  body = Event.parseBody(event)\n",
    "  \n",
    "  \n",
    "  # submitting output\n",
    "  return Response.returnSuccess({'success':'true'})\n",
    "\n",
    "lambda_handler(dummyEvent)"
   ]
  },
  {
   "cell_type": "code",
   "execution_count": null,
   "metadata": {},
   "outputs": [],
   "source": []
  }
 ],
 "metadata": {
  "kernelspec": {
   "display_name": "python38",
   "language": "python",
   "name": "python38"
  },
  "language_info": {
   "codemirror_mode": {
    "name": "ipython",
    "version": 3
   },
   "file_extension": ".py",
   "mimetype": "text/x-python",
   "name": "python",
   "nbconvert_exporter": "python",
   "pygments_lexer": "ipython3",
   "version": "3.8.6"
  }
 },
 "nbformat": 4,
 "nbformat_minor": 4
}
