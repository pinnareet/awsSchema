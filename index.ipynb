{
 "cells": [
  {
   "cell_type": "code",
   "execution_count": null,
   "metadata": {},
   "outputs": [],
   "source": [
    "#hide\n",
    "from awsSchema.apigateway import *"
   ]
  },
  {
   "cell_type": "markdown",
   "metadata": {},
   "source": [
    "# AWS_SCHEMA\n",
    "\n",
    "> dataclass for aws dictionaries"
   ]
  },
  {
   "cell_type": "markdown",
   "metadata": {},
   "source": [
    "This library aims to parse aws dictionaries and json strings into dataclass objects"
   ]
  },
  {
   "cell_type": "markdown",
   "metadata": {},
   "source": [
    "## Install"
   ]
  },
  {
   "cell_type": "markdown",
   "metadata": {},
   "source": [
    "`pip install awsSchema`"
   ]
  },
  {
   "cell_type": "markdown",
   "metadata": {},
   "source": [
    "## How to use"
   ]
  },
  {
   "cell_type": "markdown",
   "metadata": {},
   "source": [
    "extract data from aws classes eg apigateway lambda input/output\n",
    "this library uses jsondataclass, and dataclass"
   ]
  },
  {
   "cell_type": "code",
   "execution_count": null,
   "metadata": {},
   "outputs": [],
   "source": [
    "from awsSchema.apigateway import Response, Event"
   ]
  },
  {
   "cell_type": "markdown",
   "metadata": {},
   "source": [
    "## parsing event"
   ]
  },
  {
   "cell_type": "code",
   "execution_count": null,
   "metadata": {},
   "outputs": [
    {
     "data": {
      "text/plain": [
       "{'body': {'a': 1},\n",
       " 'headers': {'Accept': '*/*',\n",
       "             'Accept-Encoding': 'gzip, deflate',\n",
       "             'CloudFront-Forwarded-Proto': 'https',\n",
       "             'CloudFront-Is-Desktop-Viewer': 'true',\n",
       "             'CloudFront-Is-Mobile-Viewer': 'False',\n",
       "             'CloudFront-Is-SmartTV-Viewer': 'False',\n",
       "             'CloudFront-Is-Tablet-Viewer': 'False',\n",
       "             'CloudFront-Viewer-Country': 'US',\n",
       "             'Content-Type': 'application/json',\n",
       "             'Host': 'gy415nuibc.execute-api.us-east-1.amazonaws.com',\n",
       "             'Postman-Token': '9f583ef0-ed83-4a38-aef3-eb9ce3f7a57f',\n",
       "             'User-Agent': 'PostmanRuntime/2.4.5',\n",
       "             'Via': '1.1 d98420743a69852491bbdea73f7680bd.cloudfront.net '\n",
       "                    '(CloudFront)',\n",
       "             'X-Amz-Cf-Id': 'pn-PWIJc6thYnZm5P0NMgOUglL1DYtl0gdeJky8tqsg8iS_sgsKD1A==',\n",
       "             'X-Forwarded-For': '54.240.196.186, 54.182.214.83',\n",
       "             'X-Forwarded-Port': '443',\n",
       "             'X-Forwarded-Proto': 'https',\n",
       "             'cache-control': 'no-cache',\n",
       "             'headerName': 'headerValue'}}"
      ]
     },
     "execution_count": null,
     "metadata": {},
     "output_type": "execute_result"
    }
   ],
   "source": [
    "dummyEvent =  { \"resource\": \"/{proxy+}\", \"path\": \"/hello/world\", \"httpMethod\": \"POST\", \"headers\": { \"Accept\": \"*/*\", \"Accept-Encoding\": \"gzip, deflate\", \"cache-control\": \"no-cache\", \"CloudFront-Forwarded-Proto\": \"https\", \"CloudFront-Is-Desktop-Viewer\": \"true\", \"CloudFront-Is-Mobile-Viewer\": \"False\", \"CloudFront-Is-SmartTV-Viewer\": \"False\", \"CloudFront-Is-Tablet-Viewer\": \"False\", \"CloudFront-Viewer-Country\": \"US\", \"Content-Type\": \"application/json\", \"headerName\": \"headerValue\", \"Host\": \"gy415nuibc.execute-api.us-east-1.amazonaws.com\", \"Postman-Token\": \"9f583ef0-ed83-4a38-aef3-eb9ce3f7a57f\", \"User-Agent\": \"PostmanRuntime/2.4.5\", \"Via\": \"1.1 d98420743a69852491bbdea73f7680bd.cloudfront.net (CloudFront)\", \"X-Amz-Cf-Id\": \"pn-PWIJc6thYnZm5P0NMgOUglL1DYtl0gdeJky8tqsg8iS_sgsKD1A==\", \"X-Forwarded-For\": \"54.240.196.186, 54.182.214.83\", \"X-Forwarded-Port\": \"443\", \"X-Forwarded-Proto\": \"https\" }, \"multiValueHeaders\":{ 'Accept':[ \"*/*\" ], 'Accept-Encoding':[ \"gzip, deflate\" ], 'cache-control':[ \"no-cache\" ], 'CloudFront-Forwarded-Proto':[ \"https\" ], 'CloudFront-Is-Desktop-Viewer':[ \"true\" ], 'CloudFront-Is-Mobile-Viewer':[ \"False\" ], 'CloudFront-Is-SmartTV-Viewer':[ \"False\" ], 'CloudFront-Is-Tablet-Viewer':[ \"False\" ], 'CloudFront-Viewer-Country':[ \"US\" ], '':[ \"\" ], 'Content-Type':[ \"application/json\" ], 'headerName':[ \"headerValue\" ], 'Host':[ \"gy415nuibc.execute-api.us-east-1.amazonaws.com\" ], 'Postman-Token':[ \"9f583ef0-ed83-4a38-aef3-eb9ce3f7a57f\" ], 'User-Agent':[ \"PostmanRuntime/2.4.5\" ], 'Via':[ \"1.1 d98420743a69852491bbdea73f7680bd.cloudfront.net (CloudFront)\" ], 'X-Amz-Cf-Id':[ \"pn-PWIJc6thYnZm5P0NMgOUglL1DYtl0gdeJky8tqsg8iS_sgsKD1A==\" ], 'X-Forwarded-For':[ \"54.240.196.186, 54.182.214.83\" ], 'X-Forwarded-Port':[ \"443\" ], 'X-Forwarded-Proto':[ \"https\" ] }, \"queryStringParameters\": { \"name\": \"me\", \"multivalueName\": \"me\" }, \"multiValueQueryStringParameters\":{ \"name\":[ \"me\" ], \"multivalueName\":[ \"you\", \"me\" ] }, \"pathParameters\": { \"proxy\": \"hello/world\" }, \"stageVariables\": { \"stageVariableName\": \"stageVariableValue\" }, \"requestContext\": { \"accountId\": \"12345678912\", \"resourceId\": \"roq9wj\", \"stage\": \"testStage\", \"requestId\": \"deef4878-7910-11e6-8f14-25afc3e9ae33\", \"identity\": { \"cognitoIdentityPoolId\": None, \"accountId\": None, \"cognitoIdentityId\": None, \"caller\": None, \"apiKey\": None, \"sourceIp\": \"192.168.196.186\", \"cognitoAuthenticationType\": None, \"cognitoAuthenticationProvider\": None, \"userArn\": None, \"userAgent\": \"PostmanRuntime/2.4.5\", \"user\": None }, \"resourcePath\": \"/{proxy+}\", \"httpMethod\": \"POST\", \"apiId\": \"gy415nuibc\" }, \"body\": \"{\\r\\n\\t\\\"a\\\": 1\\r\\n}\", \"isBase64Encoded\": False }\n",
    "event = Event.from_dict(dummyEvent)\n",
    "event"
   ]
  },
  {
   "cell_type": "code",
   "execution_count": null,
   "metadata": {},
   "outputs": [
    {
     "data": {
      "text/plain": [
       "{'a': 1}"
      ]
     },
     "execution_count": null,
     "metadata": {},
     "output_type": "execute_result"
    }
   ],
   "source": [
    "event.getBody()"
   ]
  },
  {
   "cell_type": "markdown",
   "metadata": {},
   "source": [
    "## creating response dict"
   ]
  },
  {
   "cell_type": "code",
   "execution_count": null,
   "metadata": {},
   "outputs": [
    {
     "data": {
      "text/plain": [
       "{'body': '{\"hello\":\"world\"}', 'statusCode': 200, 'headers': {}}"
      ]
     },
     "execution_count": null,
     "metadata": {},
     "output_type": "execute_result"
    }
   ],
   "source": [
    "Response.getReturn(body={'hello':'world'})"
   ]
  },
  {
   "cell_type": "markdown",
   "metadata": {},
   "source": [
    "## Use in lambda function"
   ]
  },
  {
   "cell_type": "code",
   "execution_count": null,
   "metadata": {},
   "outputs": [
    {
     "data": {
      "text/plain": [
       "{'body': '{\"a\":1}', 'statusCode': 200, 'headers': {'hello': 'hello'}}"
      ]
     },
     "execution_count": null,
     "metadata": {},
     "output_type": "execute_result"
    }
   ],
   "source": [
    "def lambda_handler(event, *args):\n",
    "  # parsing event body\n",
    "  e = Event.from_dict(event)\n",
    "  body = e.getBody()\n",
    "  \n",
    "  \n",
    "  # submitting output\n",
    "  return Response.getReturn(\n",
    "    body = body, statusCode= 200, headers = {'hello':'hello'}\n",
    "  )\n",
    "\n",
    "lambda_handler(dummyEvent)"
   ]
  },
  {
   "cell_type": "code",
   "execution_count": null,
   "metadata": {},
   "outputs": [],
   "source": []
  }
 ],
 "metadata": {
  "kernelspec": {
   "display_name": "python38",
   "language": "python",
   "name": "python38"
  }
 },
 "nbformat": 4,
 "nbformat_minor": 4
}
